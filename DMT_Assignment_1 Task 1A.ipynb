{
 "cells": [
  {
   "cell_type": "code",
   "execution_count": 1,
   "id": "7898e5d1",
   "metadata": {},
   "outputs": [
    {
     "name": "stdout",
     "output_type": "stream",
     "text": [
      "Requirement already satisfied: openpyxl in c:\\users\\koenk\\appdata\\local\\programs\\python\\python310\\lib\\site-packages (3.1.2)Note: you may need to restart the kernel to use updated packages.\n",
      "\n",
      "Requirement already satisfied: et-xmlfile in c:\\users\\koenk\\appdata\\local\\programs\\python\\python310\\lib\\site-packages (from openpyxl) (1.1.0)\n"
     ]
    },
    {
     "name": "stderr",
     "output_type": "stream",
     "text": [
      "\n",
      "[notice] A new release of pip available: 22.3.1 -> 23.1\n",
      "[notice] To update, run: python.exe -m pip install --upgrade pip\n"
     ]
    },
    {
     "name": "stdout",
     "output_type": "stream",
     "text": [
      "Requirement already satisfied: seaborn in c:\\users\\koenk\\appdata\\local\\programs\\python\\python310\\lib\\site-packages (0.12.2)Note: you may need to restart the kernel to use updated packages.\n"
     ]
    },
    {
     "name": "stderr",
     "output_type": "stream",
     "text": [
      "\n",
      "[notice] A new release of pip available: 22.3.1 -> 23.1\n",
      "[notice] To update, run: python.exe -m pip install --upgrade pip\n"
     ]
    },
    {
     "name": "stdout",
     "output_type": "stream",
     "text": [
      "\n",
      "Requirement already satisfied: pandas>=0.25 in c:\\users\\koenk\\appdata\\local\\programs\\python\\python310\\lib\\site-packages (from seaborn) (1.4.4)\n",
      "Requirement already satisfied: matplotlib!=3.6.1,>=3.1 in c:\\users\\koenk\\appdata\\local\\programs\\python\\python310\\lib\\site-packages (from seaborn) (3.5.2)\n",
      "Requirement already satisfied: numpy!=1.24.0,>=1.17 in c:\\users\\koenk\\appdata\\local\\programs\\python\\python310\\lib\\site-packages (from seaborn) (1.22.4)\n",
      "Requirement already satisfied: python-dateutil>=2.7 in c:\\users\\koenk\\appdata\\local\\programs\\python\\python310\\lib\\site-packages (from matplotlib!=3.6.1,>=3.1->seaborn) (2.8.2)\n",
      "Requirement already satisfied: fonttools>=4.22.0 in c:\\users\\koenk\\appdata\\local\\programs\\python\\python310\\lib\\site-packages (from matplotlib!=3.6.1,>=3.1->seaborn) (4.33.3)\n",
      "Requirement already satisfied: cycler>=0.10 in c:\\users\\koenk\\appdata\\local\\programs\\python\\python310\\lib\\site-packages (from matplotlib!=3.6.1,>=3.1->seaborn) (0.11.0)\n",
      "Requirement already satisfied: pyparsing>=2.2.1 in c:\\users\\koenk\\appdata\\local\\programs\\python\\python310\\lib\\site-packages (from matplotlib!=3.6.1,>=3.1->seaborn) (3.0.9)\n",
      "Requirement already satisfied: packaging>=20.0 in c:\\users\\koenk\\appdata\\local\\programs\\python\\python310\\lib\\site-packages (from matplotlib!=3.6.1,>=3.1->seaborn) (21.3)\n",
      "Requirement already satisfied: pillow>=6.2.0 in c:\\users\\koenk\\appdata\\local\\programs\\python\\python310\\lib\\site-packages (from matplotlib!=3.6.1,>=3.1->seaborn) (9.1.1)\n",
      "Requirement already satisfied: kiwisolver>=1.0.1 in c:\\users\\koenk\\appdata\\local\\programs\\python\\python310\\lib\\site-packages (from matplotlib!=3.6.1,>=3.1->seaborn) (1.4.2)\n",
      "Requirement already satisfied: pytz>=2020.1 in c:\\users\\koenk\\appdata\\local\\programs\\python\\python310\\lib\\site-packages (from pandas>=0.25->seaborn) (2022.2.1)\n",
      "Requirement already satisfied: six>=1.5 in c:\\users\\koenk\\appdata\\local\\programs\\python\\python310\\lib\\site-packages (from python-dateutil>=2.7->matplotlib!=3.6.1,>=3.1->seaborn) (1.16.0)\n"
     ]
    }
   ],
   "source": [
    "%pip install -U openpyxl\n",
    "%pip install -U seaborn"
   ]
  },
  {
   "cell_type": "code",
   "execution_count": 2,
   "id": "8d0d984b",
   "metadata": {},
   "outputs": [
    {
     "name": "stdout",
     "output_type": "stream",
     "text": [
      "<class 'pandas.core.frame.DataFrame'>\n",
      "RangeIndex: 305 entries, 0 to 304\n",
      "Data columns (total 16 columns):\n",
      " #   Column                                                             Non-Null Count  Dtype \n",
      "---  ------                                                             --------------  ----- \n",
      " 0   What programme are you in?                                         305 non-null    object\n",
      " 1   Have you taken a course on machine learning?                       305 non-null    object\n",
      " 2   Have you taken a course on information retrieval?                  305 non-null    object\n",
      " 3   Have you taken a course on statistics?                             305 non-null    object\n",
      " 4   Have you taken a course on databases?                              305 non-null    object\n",
      " 5   What is your gender?                                               305 non-null    object\n",
      " 6   I have used ChatGPT to help me with some of my study assignments   305 non-null    object\n",
      " 7   When is your birthday (date)?                                      305 non-null    object\n",
      " 8   How many students do you estimate there are in the room?           305 non-null    object\n",
      " 9   Did you stand up to come to your previous answer    ?              305 non-null    object\n",
      " 10  What is your stress level (0-100)?                                 304 non-null    object\n",
      " 11  How many hours per week do you do sports (in whole hours)?         305 non-null    object\n",
      " 12  Give a random number                                               305 non-null    object\n",
      " 13  Time you went to bed Yesterday                                     305 non-null    object\n",
      " 14  What makes a good day for you (1)?                                 305 non-null    object\n",
      " 15  What makes a good day for you (2)?                                 304 non-null    object\n",
      "dtypes: object(16)\n",
      "memory usage: 38.2+ KB\n",
      "None\n"
     ]
    }
   ],
   "source": [
    "import numpy as np\n",
    "import pandas as pd\n",
    "\n",
    "# df = pd.read_csv(\"new_data_fill_missing_with_previous_row.csv\")\n",
    "df = pd.read_excel(\"data/ODI-2023.xlsx\")\n",
    "df = df.drop([\"Tijdstempel\"], axis=1)\n",
    "print(df.info())"
   ]
  },
  {
   "cell_type": "code",
   "execution_count": 3,
   "id": "3be7b1ab",
   "metadata": {},
   "outputs": [
    {
     "name": "stdout",
     "output_type": "stream",
     "text": [
      "{\n",
      "   \"How many students do you estimate there are in the room?\": {\n",
      "      \"length\": 299,\n",
      "      \"mean\": 334.33946488294316,\n",
      "      \"median\": 350.0,\n",
      "      \"mode\": 400.0,\n",
      "      \"max\": 900.0,\n",
      "      \"min\": -6382.0,\n",
      "      \"range\": 7282.0,\n",
      "      \"std\": 414.1803290202997,\n",
      "      \"num_miss_vals\": 0,\n",
      "      \"num_incorrect_vals\": 1\n",
      "   },\n",
      "   \"What is your stress level (0-100)?\": {\n",
      "      \"length\": 296,\n",
      "      \"mean\": 341182665.67195946,\n",
      "      \"median\": 50.0,\n",
      "      \"mode\": 70.0,\n",
      "      \"max\": 100000000000.0,\n",
      "      \"min\": -420.0,\n",
      "      \"range\": 100000000420.0,\n",
      "      \"std\": 5812471698.9414,\n",
      "      \"num_miss_vals\": 0,\n",
      "      \"num_incorrect_vals\": 9\n",
      "   },\n",
      "   \"How many hours per week do you do sports (in whole hours)? \": {\n",
      "      \"length\": 291,\n",
      "      \"mean\": 5.888350515463918,\n",
      "      \"median\": 4.0,\n",
      "      \"mode\": 4.0,\n",
      "      \"max\": 290.0,\n",
      "      \"min\": -10.0,\n",
      "      \"range\": 300.0,\n",
      "      \"std\": 17.112508291552103,\n",
      "      \"num_miss_vals\": 0,\n",
      "      \"num_incorrect_vals\": 14\n",
      "   },\n",
      "   \"Give a random number\": {\n",
      "      \"length\": 297,\n",
      "      \"mean\": 5.892011574652222e+200,\n",
      "      \"median\": 27.0,\n",
      "      \"mode\": 7.0,\n",
      "      \"max\": 1.74992743767171e+203,\n",
      "      \"min\": -3.14,\n",
      "      \"range\": 1.74992743767171e+203,\n",
      "      \"std\": Infinity,\n",
      "      \"num_miss_vals\": 0,\n",
      "      \"num_incorrect_vals\": 5\n",
      "   }\n",
      "}\n"
     ]
    }
   ],
   "source": [
    "import json\n",
    "\n",
    "def calculate_statistics_numerical(df, col_names):\n",
    "    stats = {}\n",
    "    for name in col_names:\n",
    "        col = df[name]\n",
    "        col = pd.to_numeric(col, errors='coerce').dropna()\n",
    "        col_stats = {}\n",
    "        col_stats[\"length\"] = len(col)\n",
    "        col_stats[\"mean\"] = col.mean()\n",
    "        col_stats[\"median\"] = col.median()\n",
    "        col_stats[\"mode\"] = col.value_counts().idxmax()\n",
    "        col_stats[\"max\"] = col.max()\n",
    "        col_stats[\"min\"] = col.min()\n",
    "        col_stats[\"range\"] = col.max() - col.min()\n",
    "        col_stats[\"std\"] = col.std()\n",
    "        col_stats[\"num_miss_vals\"] = len(df[df[name] == 'unknown'])\n",
    "        stats[name] = col_stats\n",
    "    return stats\n",
    "\n",
    "numerical_stats = calculate_statistics_numerical(df, [\n",
    "    \"How many students do you estimate there are in the room?\",\n",
    "    \"What is your stress level (0-100)?\",\n",
    "    \"How many hours per week do you do sports (in whole hours)? \",\n",
    "    \"Give a random number\"\n",
    "])\n",
    "\n",
    "numerical_stats[\"How many students do you estimate there are in the room?\"][\"num_incorrect_vals\"] = 1\n",
    "numerical_stats[\"What is your stress level (0-100)?\"][\"num_incorrect_vals\"] = 9\n",
    "numerical_stats[\"How many hours per week do you do sports (in whole hours)? \"][\"num_incorrect_vals\"] = 14\n",
    "numerical_stats[\"Give a random number\"][\"num_incorrect_vals\"] = 5\n",
    "\n",
    "print(json.dumps(numerical_stats, indent=3))"
   ]
  },
  {
   "cell_type": "code",
   "execution_count": 4,
   "id": "3beb8e10",
   "metadata": {},
   "outputs": [
    {
     "name": "stdout",
     "output_type": "stream",
     "text": [
      "{\n",
      "   \"What programme are you in?\": {\n",
      "      \"length\": 305,\n",
      "      \"mode\": \"AI\",\n",
      "      \"num_miss_vals\": 0,\n",
      "      \"num_incorrect_vals\": 0\n",
      "   },\n",
      "   \"Have you taken a course on machine learning?\": {\n",
      "      \"length\": 305,\n",
      "      \"mode\": \"yes\",\n",
      "      \"num_miss_vals\": 3,\n",
      "      \"num_incorrect_vals\": 0\n",
      "   },\n",
      "   \"Have you taken a course on information retrieval?\": {\n",
      "      \"length\": 305,\n",
      "      \"mode\": 0,\n",
      "      \"num_miss_vals\": 23,\n",
      "      \"num_incorrect_vals\": 0\n",
      "   },\n",
      "   \"Have you taken a course on statistics?\": {\n",
      "      \"length\": 305,\n",
      "      \"mode\": \"mu\",\n",
      "      \"num_miss_vals\": 16,\n",
      "      \"num_incorrect_vals\": 53\n",
      "   },\n",
      "   \"Have you taken a course on databases?\": {\n",
      "      \"length\": 305,\n",
      "      \"mode\": \"ja\",\n",
      "      \"num_miss_vals\": 1,\n",
      "      \"num_incorrect_vals\": 1\n",
      "   },\n",
      "   \"What is your gender?\": {\n",
      "      \"length\": 305,\n",
      "      \"mode\": \"male\",\n",
      "      \"num_miss_vals\": 0,\n",
      "      \"num_incorrect_vals\": 0\n",
      "   },\n",
      "   \"I have used ChatGPT to help me with some of my study assignments \": {\n",
      "      \"length\": 305,\n",
      "      \"mode\": \"yes\",\n",
      "      \"num_miss_vals\": 0,\n",
      "      \"num_incorrect_vals\": 0\n",
      "   },\n",
      "   \"When is your birthday (date)?\": {\n",
      "      \"length\": 305,\n",
      "      \"mode\": \"14-05-1999\",\n",
      "      \"num_miss_vals\": 0\n",
      "   },\n",
      "   \"Did you stand up to come to your previous answer    ?\": {\n",
      "      \"length\": 305,\n",
      "      \"mode\": \"no\",\n",
      "      \"num_miss_vals\": 12,\n",
      "      \"num_incorrect_vals\": 0\n",
      "   },\n",
      "   \"Time you went to bed Yesterday\": {\n",
      "      \"length\": 305,\n",
      "      \"mode\": \"23:30\",\n",
      "      \"num_miss_vals\": 0\n",
      "   },\n",
      "   \"What makes a good day for you (1)?\": {\n",
      "      \"length\": 305,\n",
      "      \"mode\": \"Sun\",\n",
      "      \"num_miss_vals\": 0\n",
      "   },\n",
      "   \"What makes a good day for you (2)?\": {\n",
      "      \"length\": 305,\n",
      "      \"mode\": \"Good food\",\n",
      "      \"num_miss_vals\": 0\n",
      "   }\n",
      "}\n"
     ]
    }
   ],
   "source": [
    "def calculate_statistics_categorical(df, col_names):\n",
    "    stats = {}\n",
    "    for name in col_names:\n",
    "        col = df[name]\n",
    "        col_stats = {}\n",
    "        col_stats[\"length\"] = len(col)\n",
    "        col_stats[\"mode\"] = col.value_counts().idxmax()\n",
    "        col_stats[\"num_miss_vals\"] = len(df[df[name] == 'unknown'])\n",
    "        stats[name] = col_stats\n",
    "    return stats\n",
    "\n",
    "categorical_stats = calculate_statistics_categorical(df, [\n",
    "    \"What programme are you in?\",\n",
    "    \"Have you taken a course on machine learning?\",\n",
    "    \"Have you taken a course on information retrieval?\",\n",
    "    \"Have you taken a course on statistics?\",\n",
    "    \"Have you taken a course on databases?\",\n",
    "    \"What is your gender?\",\n",
    "    \"I have used ChatGPT to help me with some of my study assignments \",\n",
    "    \"When is your birthday (date)?\",\n",
    "    \"Did you stand up to come to your previous answer    ?\",\n",
    "    \"Time you went to bed Yesterday\",\n",
    "    \"What makes a good day for you (1)?\",\n",
    "    \"What makes a good day for you (2)?\"\n",
    "])\n",
    "\n",
    "categorical_stats[\"What programme are you in?\"][\"num_incorrect_vals\"] = 0\n",
    "categorical_stats[\"Have you taken a course on machine learning?\"][\"num_incorrect_vals\"] = 0\n",
    "categorical_stats[\"Have you taken a course on information retrieval?\"][\"num_incorrect_vals\"] = 0\n",
    "categorical_stats[\"Have you taken a course on statistics?\"][\"num_incorrect_vals\"] = 53\n",
    "categorical_stats[\"Have you taken a course on databases?\"][\"num_incorrect_vals\"] = 1\n",
    "categorical_stats[\"What is your gender?\"][\"num_incorrect_vals\"] = 0\n",
    "categorical_stats[\"I have used ChatGPT to help me with some of my study assignments \"][\"num_incorrect_vals\"] = 0\n",
    "categorical_stats[\"Did you stand up to come to your previous answer    ?\"][\"num_incorrect_vals\"] = 0\n",
    "\n",
    "print(json.dumps(categorical_stats, indent=3))"
   ]
  },
  {
   "cell_type": "code",
   "execution_count": 23,
   "id": "1ef39d22",
   "metadata": {},
   "outputs": [
    {
     "name": "stdout",
     "output_type": "stream",
     "text": [
      "<class 'pandas.core.frame.DataFrame'>\n",
      "Int64Index: 297 entries, 0 to 304\n",
      "Data columns (total 4 columns):\n",
      " #   Column            Non-Null Count  Dtype  \n",
      "---  ------            --------------  -----  \n",
      " 0   students_in_room  297 non-null    float64\n",
      " 1   stress_level      297 non-null    float64\n",
      " 2   sports_per_week   297 non-null    float64\n",
      " 3   random_number     297 non-null    float64\n",
      "dtypes: float64(4)\n",
      "memory usage: 11.6 KB\n",
      "None\n",
      "0       1.0\n",
      "1      69.0\n",
      "2      42.0\n",
      "3      17.0\n",
      "4      12.0\n",
      "       ... \n",
      "300    67.0\n",
      "301    13.0\n",
      "302    18.0\n",
      "303    69.0\n",
      "304    10.0\n",
      "Name: random_number, Length: 297, dtype: float64\n"
     ]
    },
    {
     "name": "stderr",
     "output_type": "stream",
     "text": [
      "C:\\Users\\koenk\\AppData\\Local\\Temp\\ipykernel_29588\\657032350.py:6: FutureWarning: The default value of regex will change from True to False in a future version.\n",
      "  df['random_number'] = df['random_number'].str.replace(r'[^0-9]+', '')\n",
      "C:\\Users\\koenk\\AppData\\Local\\Temp\\ipykernel_29588\\657032350.py:16: MatplotlibDeprecationWarning: You are modifying the state of a globally registered colormap. This has been deprecated since 3.3 and in 3.6, you will not be able to modify a registered colormap in-place. To remove this warning, you can make a copy of the colormap first. cmap = mpl.cm.get_cmap(\"RdYlGn\").copy()\n",
      "  color.set_bad('lightblue')    # if the value is bad the color would be lightblue instead of white\n"
     ]
    },
    {
     "data": {
      "text/plain": [
       "<AxesSubplot:>"
      ]
     },
     "execution_count": 23,
     "metadata": {},
     "output_type": "execute_result"
    },
    {
     "data": {
      "image/png": "[encoded data removed]",
      "text/plain": [
       "<Figure size 640x480 with 2 Axes>"
      ]
     },
     "metadata": {},
     "output_type": "display_data"
    }
   ],
   "source": [
    "import matplotlib.pyplot as plt\n",
    "import seaborn as sns\n",
    "\n",
    "df = pd.read_csv(\"new_data_fill_missing_with_previous_row.csv\")\n",
    "df = df[[\"students_in_room\", \"stress_level\", \"sports_per_week\", \"random_number\"]]\n",
    "df['random_number'] = df['random_number'].str.replace(r'[^0-9]+', '')\n",
    "df['random_number'].replace('', np.nan, inplace=True)\n",
    "df.dropna(inplace=True)\n",
    "df[\"random_number\"] = df[\"random_number\"].astype(float)\n",
    "print(df.info())\n",
    "\n",
    "print(df[\"random_number\"])\n",
    "\n",
    "correlation = df.corr()\n",
    "color = plt.get_cmap('RdYlGn')   # default color\n",
    "color.set_bad('lightblue')    # if the value is bad the color would be lightblue instead of white\n",
    "# h_map = sns.heatmap(data=cor_mat, annot=True, cmap=color) \n",
    "# plt.figure(figsize=(18, 18))\n",
    "sns.heatmap(correlation, vmax=1, square=True,annot=True,cmap=color)"
   ]
  },
  {
   "cell_type": "code",
   "execution_count": null,
   "id": "8806c991",
   "metadata": {},
   "outputs": [],
   "source": []
  },
  {
   "cell_type": "code",
   "execution_count": null,
   "id": "7aff489c",
   "metadata": {},
   "outputs": [],
   "source": []
  }
 ],
 "metadata": {
  "kernelspec": {
   "display_name": "Python 3 (ipykernel)",
   "language": "python",
   "name": "python3"
  },
  "language_info": {
   "codemirror_mode": {
    "name": "ipython",
    "version": 3
   },
   "file_extension": ".py",
   "mimetype": "text/x-python",
   "name": "python",
   "nbconvert_exporter": "python",
   "pygments_lexer": "ipython3",
   "version": "3.9.13"
  }
 },
 "nbformat": 4,
 "nbformat_minor": 5
}
