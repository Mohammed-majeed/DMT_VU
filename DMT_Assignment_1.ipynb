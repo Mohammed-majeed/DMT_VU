{
 "cells": [
  {
   "cell_type": "code",
   "execution_count": 1,
   "id": "2e6d4a6b",
   "metadata": {},
   "outputs": [],
   "source": [
    "import pandas as pd\n",
    "import re\n",
    "\n",
    "import warnings\n",
    "warnings.filterwarnings('ignore')"
   ]
  },
  {
   "cell_type": "code",
   "execution_count": null,
   "id": "35e296f5",
   "metadata": {},
   "outputs": [],
   "source": []
  },
  {
   "cell_type": "code",
   "execution_count": 2,
   "id": "e377f906",
   "metadata": {},
   "outputs": [],
   "source": [
    "# pd.set_option('display.max_rows', None)"
   ]
  },
  {
   "cell_type": "code",
   "execution_count": null,
   "id": "99e29af0",
   "metadata": {},
   "outputs": [],
   "source": []
  },
  {
   "cell_type": "code",
   "execution_count": 3,
   "id": "ce588e5d",
   "metadata": {},
   "outputs": [
    {
     "data": {
      "text/html": [
       "<div>\n",
       "<style scoped>\n",
       "    .dataframe tbody tr th:only-of-type {\n",
       "        vertical-align: middle;\n",
       "    }\n",
       "\n",
       "    .dataframe tbody tr th {\n",
       "        vertical-align: top;\n",
       "    }\n",
       "\n",
       "    .dataframe thead th {\n",
       "        text-align: right;\n",
       "    }\n",
       "</style>\n",
       "<table border=\"1\" class=\"dataframe\">\n",
       "  <thead>\n",
       "    <tr style=\"text-align: right;\">\n",
       "      <th></th>\n",
       "      <th>Tijdstempel</th>\n",
       "      <th>What programme are you in?</th>\n",
       "      <th>Have you taken a course on machine learning?</th>\n",
       "      <th>Have you taken a course on information retrieval?</th>\n",
       "      <th>Have you taken a course on statistics?</th>\n",
       "      <th>Have you taken a course on databases?</th>\n",
       "      <th>What is your gender?</th>\n",
       "      <th>I have used ChatGPT to help me with some of my study assignments</th>\n",
       "      <th>When is your birthday (date)?</th>\n",
       "      <th>How many students do you estimate there are in the room?</th>\n",
       "      <th>Did you stand up to come to your previous answer    ?</th>\n",
       "      <th>What is your stress level (0-100)?</th>\n",
       "      <th>How many hours per week do you do sports (in whole hours)?</th>\n",
       "      <th>Give a random number</th>\n",
       "      <th>Time you went to bed Yesterday</th>\n",
       "      <th>What makes a good day for you (1)?</th>\n",
       "      <th>What makes a good day for you (2)?</th>\n",
       "    </tr>\n",
       "  </thead>\n",
       "  <tbody>\n",
       "    <tr>\n",
       "      <th>0</th>\n",
       "      <td>2023-04-04 12:08:33.342</td>\n",
       "      <td>Masters - AI</td>\n",
       "      <td>yes</td>\n",
       "      <td>0</td>\n",
       "      <td>mu</td>\n",
       "      <td>nee</td>\n",
       "      <td>gender fluid</td>\n",
       "      <td>yes</td>\n",
       "      <td>23/11/1997</td>\n",
       "      <td>319</td>\n",
       "      <td>unknown</td>\n",
       "      <td>100</td>\n",
       "      <td>0</td>\n",
       "      <td>69</td>\n",
       "      <td>11:30</td>\n",
       "      <td>Ashes</td>\n",
       "      <td>Not ashes</td>\n",
       "    </tr>\n",
       "    <tr>\n",
       "      <th>1</th>\n",
       "      <td>2023-04-04 12:08:36.017</td>\n",
       "      <td>Artificial Intelligence</td>\n",
       "      <td>no</td>\n",
       "      <td>0</td>\n",
       "      <td>sigma</td>\n",
       "      <td>nee</td>\n",
       "      <td>male</td>\n",
       "      <td>not willing to say</td>\n",
       "      <td>5th August, 1995</td>\n",
       "      <td>600</td>\n",
       "      <td>no</td>\n",
       "      <td>60</td>\n",
       "      <td>2</td>\n",
       "      <td>42</td>\n",
       "      <td>23.00</td>\n",
       "      <td>good food</td>\n",
       "      <td>good sleep</td>\n",
       "    </tr>\n",
       "    <tr>\n",
       "      <th>2</th>\n",
       "      <td>2023-04-04 12:08:37.501</td>\n",
       "      <td>AI</td>\n",
       "      <td>no</td>\n",
       "      <td>0</td>\n",
       "      <td>mu</td>\n",
       "      <td>nee</td>\n",
       "      <td>female</td>\n",
       "      <td>no</td>\n",
       "      <td>21/09</td>\n",
       "      <td>220</td>\n",
       "      <td>no</td>\n",
       "      <td>20</td>\n",
       "      <td>5</td>\n",
       "      <td>17</td>\n",
       "      <td>23:30</td>\n",
       "      <td>Sports</td>\n",
       "      <td>Friends</td>\n",
       "    </tr>\n",
       "    <tr>\n",
       "      <th>3</th>\n",
       "      <td>2023-04-04 12:08:51.909</td>\n",
       "      <td>Data mining</td>\n",
       "      <td>yes</td>\n",
       "      <td>1</td>\n",
       "      <td>mu</td>\n",
       "      <td>ja</td>\n",
       "      <td>male</td>\n",
       "      <td>yes</td>\n",
       "      <td>25-06-1996</td>\n",
       "      <td>100</td>\n",
       "      <td>unknown</td>\n",
       "      <td>50</td>\n",
       "      <td>5</td>\n",
       "      <td>12</td>\n",
       "      <td>11</td>\n",
       "      <td>Gym</td>\n",
       "      <td>Piano</td>\n",
       "    </tr>\n",
       "    <tr>\n",
       "      <th>4</th>\n",
       "      <td>2023-04-04 12:08:59.019</td>\n",
       "      <td>Quantitative Risk Management</td>\n",
       "      <td>no</td>\n",
       "      <td>0</td>\n",
       "      <td>mu</td>\n",
       "      <td>nee</td>\n",
       "      <td>male</td>\n",
       "      <td>yes</td>\n",
       "      <td>18-08-1998</td>\n",
       "      <td>300</td>\n",
       "      <td>no</td>\n",
       "      <td>65</td>\n",
       "      <td>10</td>\n",
       "      <td>874</td>\n",
       "      <td>11</td>\n",
       "      <td>Relax</td>\n",
       "      <td>Sun</td>\n",
       "    </tr>\n",
       "  </tbody>\n",
       "</table>\n",
       "</div>"
      ],
      "text/plain": [
       "              Tijdstempel    What programme are you in?  \\\n",
       "0 2023-04-04 12:08:33.342                  Masters - AI   \n",
       "1 2023-04-04 12:08:36.017       Artificial Intelligence   \n",
       "2 2023-04-04 12:08:37.501                            AI   \n",
       "3 2023-04-04 12:08:51.909                   Data mining   \n",
       "4 2023-04-04 12:08:59.019  Quantitative Risk Management   \n",
       "\n",
       "  Have you taken a course on machine learning?  \\\n",
       "0                                          yes   \n",
       "1                                           no   \n",
       "2                                           no   \n",
       "3                                          yes   \n",
       "4                                           no   \n",
       "\n",
       "  Have you taken a course on information retrieval?  \\\n",
       "0                                                 0   \n",
       "1                                                 0   \n",
       "2                                                 0   \n",
       "3                                                 1   \n",
       "4                                                 0   \n",
       "\n",
       "  Have you taken a course on statistics?  \\\n",
       "0                                     mu   \n",
       "1                                  sigma   \n",
       "2                                     mu   \n",
       "3                                     mu   \n",
       "4                                     mu   \n",
       "\n",
       "  Have you taken a course on databases? What is your gender?  \\\n",
       "0                                   nee         gender fluid   \n",
       "1                                   nee                 male   \n",
       "2                                   nee               female   \n",
       "3                                    ja                 male   \n",
       "4                                   nee                 male   \n",
       "\n",
       "  I have used ChatGPT to help me with some of my study assignments   \\\n",
       "0                                                yes                  \n",
       "1                                 not willing to say                  \n",
       "2                                                 no                  \n",
       "3                                                yes                  \n",
       "4                                                yes                  \n",
       "\n",
       "  When is your birthday (date)?  \\\n",
       "0                    23/11/1997   \n",
       "1              5th August, 1995   \n",
       "2                         21/09   \n",
       "3                    25-06-1996   \n",
       "4                    18-08-1998   \n",
       "\n",
       "  How many students do you estimate there are in the room?  \\\n",
       "0                                                319         \n",
       "1                                                600         \n",
       "2                                                220         \n",
       "3                                                100         \n",
       "4                                                300         \n",
       "\n",
       "  Did you stand up to come to your previous answer    ?  \\\n",
       "0                                            unknown      \n",
       "1                                                 no      \n",
       "2                                                 no      \n",
       "3                                            unknown      \n",
       "4                                                 no      \n",
       "\n",
       "  What is your stress level (0-100)?  \\\n",
       "0                                100   \n",
       "1                                 60   \n",
       "2                                 20   \n",
       "3                                 50   \n",
       "4                                 65   \n",
       "\n",
       "  How many hours per week do you do sports (in whole hours)?   \\\n",
       "0                                                  0            \n",
       "1                                                  2            \n",
       "2                                                  5            \n",
       "3                                                  5            \n",
       "4                                                 10            \n",
       "\n",
       "  Give a random number Time you went to bed Yesterday  \\\n",
       "0                   69                          11:30   \n",
       "1                   42                          23.00   \n",
       "2                   17                          23:30   \n",
       "3                   12                             11   \n",
       "4                  874                             11   \n",
       "\n",
       "  What makes a good day for you (1)? What makes a good day for you (2)?  \n",
       "0                              Ashes                          Not ashes  \n",
       "1                          good food                         good sleep  \n",
       "2                             Sports                            Friends  \n",
       "3                                Gym                              Piano  \n",
       "4                              Relax                                Sun  "
      ]
     },
     "execution_count": 3,
     "metadata": {},
     "output_type": "execute_result"
    }
   ],
   "source": [
    "df = pd.read_excel(\"ODI-2023.xlsx\")\n",
    "df.head()"
   ]
  },
  {
   "cell_type": "code",
   "execution_count": 4,
   "id": "ca5436bf",
   "metadata": {},
   "outputs": [],
   "source": [
    "months = {'january': 1,'jan': 1,'february': 2,'feb': 2,'march': 3,'april': 4,'may': 5,'june': 6,'july': 7,\n",
    "    'august': 8 ,'september': 9,'sept': 9,'october': 10,'november': 11,'december': 12,'th': \"\",'nd':\"\",'fr':\"\",'bc':''}    "
   ]
  },
  {
   "cell_type": "code",
   "execution_count": 5,
   "id": "649eada4",
   "metadata": {},
   "outputs": [],
   "source": [
    "# correct \"When is your birthday (date)?\" column\n",
    "\n",
    "birthday  = df[\"When is your birthday (date)?\"]\n",
    "for x in range(len(birthday)):\n",
    "    birthday[x] = str(birthday[x]).lower()\n",
    "    for i in months:\n",
    "        if i in birthday[x]:\n",
    "            birthday[x] = birthday[x].replace(i,str(months[i]))\n",
    "    temp = \"\"\n",
    "    for y in range(len(birthday[x])):\n",
    "        if not birthday[x][y].isalpha() and not birthday[x][y].isdigit():\n",
    "            temp += \" \"\n",
    "        else:\n",
    "            temp += birthday[x][y]\n",
    "    birthday[x] = temp.strip()\n",
    "    if len(birthday[x])<8 or len(birthday[x])>10 or birthday[x].count(\" \")!=2:\n",
    "        birthday[x] = \"NaN\"\n",
    "    \n",
    "    birthday[x]= birthday[x].split(\" \")\n",
    "    \n",
    "for i in range(len(birthday)):\n",
    "    if len(str(birthday[i][0]))==4:\n",
    "        birthday[i][0],birthday[i][-1]=birthday[i][-1],birthday[i][0]\n",
    "    \n",
    "    if not birthday[i][-1] == \"NaN\":\n",
    "        if int(birthday[i][-1]) < 1950:\n",
    "            birthday[i] = [\"NaN\"]\n",
    "            \n",
    "for i in range(len(birthday)):\n",
    "    birthday[i] = \" \".join([str(elem) for elem in birthday[i]])\n",
    "    \n",
    "# df['When is your birthday (date)?'] = pd.to_datetime(df['When is your birthday (date)?'], format='%d %m %Y')\n"
   ]
  },
  {
   "cell_type": "code",
   "execution_count": 6,
   "id": "2c746510",
   "metadata": {},
   "outputs": [],
   "source": [
    "# correct \"What is your stress level (0-100)?\" column\n",
    "\n",
    "for index, row in df.iterrows():\n",
    "    stress_level = str(row['What is your stress level (0-100)?'])    \n",
    "\n",
    "    if not stress_level.isdigit() or int(stress_level) < 0 or int(stress_level) > 100:\n",
    "        df['What is your stress level (0-100)?'][index] = \"NaN\""
   ]
  },
  {
   "cell_type": "code",
   "execution_count": 7,
   "id": "35927fe8",
   "metadata": {},
   "outputs": [],
   "source": [
    "# replace the levels of the words with numbers\n",
    "row_values={\"yes\":1, \"no\":0 , \"mu\":1 , \"sigma\":0, \"ja\":1, \"nee\":0, \"unknown\":\"NaN\",\n",
    "           \"male\":1, \"female\":2, \"intersex\":3, \"nonbinary\":4, \"non-binary\":4, \"gender fluid\":5, \"other\":6,\n",
    "            \"not willing to answer\":7,\"not willing to say\":8}\n",
    "\n",
    "for key, value in df.iteritems():\n",
    "    for ele in range(len(value)):\n",
    "        if value[ele] in row_values.keys():\n",
    "            value[ele] = row_values[value[ele]]   "
   ]
  },
  {
   "cell_type": "code",
   "execution_count": 8,
   "id": "0ae68695",
   "metadata": {},
   "outputs": [],
   "source": [
    "# correct \"How many students do you estimate there are in the room?\" column\n",
    "\n",
    "for index, row in df.iterrows():\n",
    "    students_num = str(row['How many students do you estimate there are in the room?'])\n",
    "    numbers = r'^[10-1000]$'\n",
    "    if not students_num.isdigit() or int(students_num) < 10 or int(students_num) > 1000:\n",
    "        df['How many students do you estimate there are in the room?'][index] = \"NaN\""
   ]
  },
  {
   "cell_type": "code",
   "execution_count": 9,
   "id": "194f20b5",
   "metadata": {},
   "outputs": [],
   "source": [
    "# correct \"How many hours per week do you do sports (in whole hours)? \" column\n",
    "\n",
    "# remove the characters\n",
    "for index, row in df.iterrows():\n",
    "    students_num = str(row[\"How many hours per week do you do sports (in whole hours)? \"])\n",
    "    numbers = r'^[0-9]{1,3}\\W[0-9]{1,3}$'     \n",
    "    if re.search(numbers, students_num): \n",
    "        if \"-\" in students_num:\n",
    "            indx = students_num.index('-')\n",
    "            students_num = str(int((int(students_num[:indx:]) + int(students_num[indx+1::]))/2))\n",
    "            df[\"How many hours per week do you do sports (in whole hours)? \"][index] = students_num\n",
    "            pass\n",
    "        if \"/\" in students_num:\n",
    "            indx = students_num.index('/')\n",
    "            students_num = str(int(students_num[:indx:]) + int(students_num[indx+1::]))\n",
    "            df[\"How many hours per week do you do sports (in whole hours)? \"][index] = students_num\n",
    "            pass\n",
    "        else:\n",
    "            df[\"How many hours per week do you do sports (in whole hours)? \"][index] = str(int(float(students_num)))\n",
    "            pass\n",
    "\n",
    "# remove the words\n",
    "for index, row in df.iterrows():\n",
    "    temp = \"\"\n",
    "    students_hours = str(row[\"How many hours per week do you do sports (in whole hours)? \"])\n",
    "    for y in range(len(students_hours)):\n",
    "        if not students_hours[y].isdigit():\n",
    "            temp += \"\"\n",
    "        else:\n",
    "            temp += students_hours[y]  \n",
    "        df[\"How many hours per week do you do sports (in whole hours)? \"][index] = temp.strip()            \n",
    "# replace empty string and stranges numbers with non\n",
    "for index, row in df.iterrows():\n",
    "    students_hours = str(row[\"How many hours per week do you do sports (in whole hours)? \"])\n",
    "    if not students_hours.isdigit() or int(students_hours) < 0 or int(students_hours) > 150:\n",
    "        df[\"How many hours per week do you do sports (in whole hours)? \"][index] = \"NaN\"\n"
   ]
  },
  {
   "cell_type": "code",
   "execution_count": 10,
   "id": "68dbe35c",
   "metadata": {},
   "outputs": [],
   "source": [
    "# remove the words\n",
    "for index, row in df.iterrows():\n",
    "    temp = \"\"\n",
    "    bed_time = str(row['Time you went to bed Yesterday'])\n",
    "    for y in range(len(bed_time)):\n",
    "        if not bed_time[y].isdigit():\n",
    "            temp += \" \"\n",
    "        else:\n",
    "            temp += bed_time[y]  \n",
    "        df['Time you went to bed Yesterday'][index] = temp.strip()\n",
    "        \n",
    "# make the same format\n",
    "for index, row in df.iterrows():\n",
    "    bed_time = str(row['Time you went to bed Yesterday']).strip()\n",
    "    \n",
    "    if len(bed_time) ==5:\n",
    "        bed_time=bed_time[:2:]+\":\"+bed_time[3::]\n",
    "        df['Time you went to bed Yesterday'][index] = bed_time\n",
    "        \n",
    "    if len(bed_time) ==4:\n",
    "        bed_time=bed_time[:2:]+\":\"+bed_time[2::]\n",
    "        df['Time you went to bed Yesterday'][index] = bed_time\n",
    "        \n",
    "    if len(bed_time) ==2:\n",
    "        temp= bed_time + \":00\"\n",
    "        df['Time you went to bed Yesterday'][index] = temp\n",
    "\n",
    "    if len(bed_time) ==1:\n",
    "        temp= \"0\"+ bed_time + \":00\"\n",
    "        df['Time you went to bed Yesterday'][index] = temp  \n",
    "        \n",
    "    if len(bed_time) ==0:\n",
    "        df['Time you went to bed Yesterday'][index] = \"NaN\"         \n",
    "        \n",
    "for index, row in df.iterrows():\n",
    "    df['Time you went to bed Yesterday'][index]=df['Time you went to bed Yesterday'][index].replace(\"12\",\"00\")\n",
    "    df['Time you went to bed Yesterday'][index]=df['Time you went to bed Yesterday'][index].replace(\"24\",\"00\")\n",
    "    df['Time you went to bed Yesterday'][index]=df['Time you went to bed Yesterday'][index].replace(\"11\",\"23\")\n"
   ]
  },
  {
   "cell_type": "code",
   "execution_count": 11,
   "id": "374a6635",
   "metadata": {},
   "outputs": [],
   "source": [
    "courses = {'artificial intelligence': \"AI\",\n",
    "          'ai': \"AI\",\n",
    "           'artif': \"AI\",\n",
    "          \"quantitative risk management\":\"Quantitative Risk Management\",\n",
    "          'business analytics': \"BA\",\n",
    "           'ba': \"BA\",\n",
    "           \"finance\":\"Finance\",\n",
    "           \n",
    "           \"computer science\":\"CS\",\n",
    "           \"cs\":\"CS\",\n",
    "           \n",
    "           \"information sciences\":\"Info Sci\",\n",
    "           \"info sci\":\"Info Sci\",\n",
    "\n",
    "           \"computational science\":\"Comp Sci\",\n",
    "           \"comp sci\":\"Comp Sci\",\n",
    "           \n",
    "           \"biomedical sciences\":\"Bio Sci\",\n",
    "           \"bio sci\":\"Bio Sci\",\n",
    "           \"phd\":\"PHD\",\n",
    "           \"exchange\":\"Exchange\",\n",
    "           \"high school 3rd grade\":\"High School 3rd Grade\",\n",
    "           \"big data engineering\":\"Big Data Eng\",\n",
    "           \"big data eng\":\"Big Data Eng\",\n",
    "           \"digital business\":\"Digital Business\",\n",
    "           \"human language\":\"Human Language Tech\",\n",
    "           \"cls\":\"CLS\",\n",
    "           \"neuroscience\":\"Neuroscience\",\n",
    "           \"data mining\":\"Data Mining\",\n",
    "           \"qrm\":\"QRM\",\n",
    "           \"policy analysis\":\"Policy Analysis\"       \n",
    "\n",
    "          } "
   ]
  },
  {
   "cell_type": "code",
   "execution_count": 12,
   "id": "2da25e80",
   "metadata": {},
   "outputs": [],
   "source": [
    "for index, row in df.iterrows():\n",
    "    df['What programme are you in?'][index]=str(df['What programme are you in?'][index]).lower()\n",
    "\n",
    "for index, row in df.iterrows():\n",
    "     for i in courses:\n",
    "        if i in df['What programme are you in?'][index]:            \n",
    "            df['What programme are you in?'][index] = courses[i]\n",
    "            \n",
    "for index, row in df.iterrows(): \n",
    "    if not df['What programme are you in?'][index] in courses.values():\n",
    "        df['What programme are you in?'][index] = \"NaN\""
   ]
  },
  {
   "cell_type": "code",
   "execution_count": null,
   "id": "66800d66",
   "metadata": {},
   "outputs": [],
   "source": []
  },
  {
   "cell_type": "code",
   "execution_count": 13,
   "id": "d68e19c4",
   "metadata": {},
   "outputs": [],
   "source": [
    "# calculat age \n",
    "\n",
    "from datetime import datetime\n",
    "\n",
    "# Convert the column to a Timestamp object\n",
    "df['When is your birthday (date)?'] = pd.to_datetime(df['When is your birthday (date)?'], format='%d %m %Y', errors='coerce')\n",
    "\n",
    "# Calculate the age in years\n",
    "now = datetime.now()\n",
    "df['age'] = (now - df['When is your birthday (date)?']) // pd.Timedelta(days=365.25)\n",
    "df.insert(9, 'age', df.pop('age'))\n"
   ]
  },
  {
   "cell_type": "code",
   "execution_count": 14,
   "id": "cf61d779",
   "metadata": {},
   "outputs": [],
   "source": [
    "# get the second last row\n",
    "second_last_row = df.iloc[-2]\n",
    "# drop the second last row\n",
    "df = df.drop(df.index[-2])\n",
    "# insert the second last row as the first row\n",
    "df = pd.concat([second_last_row.to_frame().T, df], ignore_index=True)"
   ]
  },
  {
   "cell_type": "code",
   "execution_count": 15,
   "id": "869935ad",
   "metadata": {},
   "outputs": [],
   "source": [
    "df.to_csv('new_data_before_miss_value.csv', index=False)\n",
    "df.to_excel('new_data_before_miss_value.xlsx', index=False)\n"
   ]
  },
  {
   "cell_type": "code",
   "execution_count": null,
   "id": "7c340cff",
   "metadata": {},
   "outputs": [],
   "source": []
  },
  {
   "cell_type": "code",
   "execution_count": 16,
   "id": "5cca378f",
   "metadata": {},
   "outputs": [],
   "source": [
    "# df['What programme are you in?'].nunique()"
   ]
  },
  {
   "cell_type": "code",
   "execution_count": null,
   "id": "7846da3d",
   "metadata": {},
   "outputs": [],
   "source": []
  },
  {
   "cell_type": "code",
   "execution_count": null,
   "id": "633bfd53",
   "metadata": {},
   "outputs": [],
   "source": []
  },
  {
   "cell_type": "code",
   "execution_count": null,
   "id": "cea1903e",
   "metadata": {},
   "outputs": [],
   "source": []
  },
  {
   "cell_type": "code",
   "execution_count": null,
   "id": "ae564afe",
   "metadata": {},
   "outputs": [],
   "source": []
  },
  {
   "cell_type": "code",
   "execution_count": 17,
   "id": "55822dce",
   "metadata": {},
   "outputs": [],
   "source": [
    "df = pd.read_csv(\"new_data_before_miss_value.csv\")"
   ]
  },
  {
   "cell_type": "code",
   "execution_count": null,
   "id": "5779b1a6",
   "metadata": {},
   "outputs": [],
   "source": []
  },
  {
   "cell_type": "code",
   "execution_count": 19,
   "id": "15dac42d",
   "metadata": {},
   "outputs": [
    {
     "data": {
      "text/plain": [
       "Tijdstempel                                                          302\n",
       "What programme are you in?                                            19\n",
       "Have you taken a course on machine learning?                           2\n",
       "Have you taken a course on information retrieval?                      2\n",
       "Have you taken a course on statistics?                                 2\n",
       "Have you taken a course on databases?                                  2\n",
       "What is your gender?                                                   6\n",
       "I have used ChatGPT to help me with some of my study assignments       3\n",
       "When is your birthday (date)?                                        204\n",
       "age                                                                   16\n",
       "How many students do you estimate there are in the room?              99\n",
       "Did you stand up to come to your previous answer    ?                  2\n",
       "What is your stress level (0-100)?                                    56\n",
       "How many hours per week do you do sports (in whole hours)?            17\n",
       "Give a random number                                                 137\n",
       "Time you went to bed Yesterday                                        54\n",
       "What makes a good day for you (1)?                                   209\n",
       "What makes a good day for you (2)?                                   246\n",
       "dtype: int64"
      ]
     },
     "execution_count": 19,
     "metadata": {},
     "output_type": "execute_result"
    }
   ],
   "source": [
    "df.nunique()"
   ]
  },
  {
   "cell_type": "code",
   "execution_count": 20,
   "id": "d37cc105",
   "metadata": {},
   "outputs": [
    {
     "data": {
      "text/plain": [
       "Tijdstempel                                                           0\n",
       "What programme are you in?                                            5\n",
       "Have you taken a course on machine learning?                          3\n",
       "Have you taken a course on information retrieval?                    23\n",
       "Have you taken a course on statistics?                               16\n",
       "Have you taken a course on databases?                                 1\n",
       "What is your gender?                                                  0\n",
       "I have used ChatGPT to help me with some of my study assignments      0\n",
       "When is your birthday (date)?                                        83\n",
       "age                                                                  83\n",
       "How many students do you estimate there are in the room?              8\n",
       "Did you stand up to come to your previous answer    ?                12\n",
       "What is your stress level (0-100)?                                   21\n",
       "How many hours per week do you do sports (in whole hours)?            5\n",
       "Give a random number                                                  0\n",
       "Time you went to bed Yesterday                                       11\n",
       "What makes a good day for you (1)?                                    0\n",
       "What makes a good day for you (2)?                                    1\n",
       "dtype: int64"
      ]
     },
     "execution_count": 20,
     "metadata": {},
     "output_type": "execute_result"
    }
   ],
   "source": [
    "df.isnull().sum(axis = 0)"
   ]
  },
  {
   "cell_type": "code",
   "execution_count": 21,
   "id": "81450a71",
   "metadata": {},
   "outputs": [],
   "source": [
    "# full the missing valuse\n",
    "for columnName, columnData in df.iteritems():\n",
    "    # Check if the data type of the column is numeric\n",
    "    if df[columnName].dtype != 'object':\n",
    "        # If the data type is numeric, interpolate and round the column\n",
    "        df[columnName] = df[columnName].interpolate(method='linear').round()\n",
    "    else:\n",
    "        # Replace missing values with the mode of the column\n",
    "        mode = df[columnName].mode()[0]\n",
    "        df[columnName].fillna(mode, inplace=True)"
   ]
  },
  {
   "cell_type": "code",
   "execution_count": 22,
   "id": "d21f7a8d",
   "metadata": {},
   "outputs": [
    {
     "data": {
      "text/plain": [
       "Tijdstempel                                                          0\n",
       "What programme are you in?                                           0\n",
       "Have you taken a course on machine learning?                         0\n",
       "Have you taken a course on information retrieval?                    0\n",
       "Have you taken a course on statistics?                               0\n",
       "Have you taken a course on databases?                                0\n",
       "What is your gender?                                                 0\n",
       "I have used ChatGPT to help me with some of my study assignments     0\n",
       "When is your birthday (date)?                                        0\n",
       "age                                                                  0\n",
       "How many students do you estimate there are in the room?             0\n",
       "Did you stand up to come to your previous answer    ?                0\n",
       "What is your stress level (0-100)?                                   0\n",
       "How many hours per week do you do sports (in whole hours)?           0\n",
       "Give a random number                                                 0\n",
       "Time you went to bed Yesterday                                       0\n",
       "What makes a good day for you (1)?                                   0\n",
       "What makes a good day for you (2)?                                   0\n",
       "dtype: int64"
      ]
     },
     "execution_count": 22,
     "metadata": {},
     "output_type": "execute_result"
    }
   ],
   "source": [
    "df.isnull().sum(axis = 0)"
   ]
  },
  {
   "cell_type": "code",
   "execution_count": 23,
   "id": "3e14e30c",
   "metadata": {},
   "outputs": [
    {
     "data": {
      "text/plain": [
       "Tijdstempel                                                          302\n",
       "What programme are you in?                                            19\n",
       "Have you taken a course on machine learning?                           2\n",
       "Have you taken a course on information retrieval?                      2\n",
       "Have you taken a course on statistics?                                 2\n",
       "Have you taken a course on databases?                                  2\n",
       "What is your gender?                                                   6\n",
       "I have used ChatGPT to help me with some of my study assignments       3\n",
       "When is your birthday (date)?                                        204\n",
       "age                                                                   16\n",
       "How many students do you estimate there are in the room?             102\n",
       "Did you stand up to come to your previous answer    ?                  2\n",
       "What is your stress level (0-100)?                                    60\n",
       "How many hours per week do you do sports (in whole hours)?            17\n",
       "Give a random number                                                 137\n",
       "Time you went to bed Yesterday                                        54\n",
       "What makes a good day for you (1)?                                   209\n",
       "What makes a good day for you (2)?                                   246\n",
       "dtype: int64"
      ]
     },
     "execution_count": 23,
     "metadata": {},
     "output_type": "execute_result"
    }
   ],
   "source": [
    "df.nunique()"
   ]
  },
  {
   "cell_type": "code",
   "execution_count": null,
   "id": "9d7d7c6a",
   "metadata": {},
   "outputs": [],
   "source": []
  },
  {
   "cell_type": "code",
   "execution_count": 25,
   "id": "28b933de",
   "metadata": {
    "scrolled": false
   },
   "outputs": [],
   "source": [
    "# save the New_data\n",
    "df.to_csv('new_data_fill_missing_linear&mode.csv', index=False)"
   ]
  },
  {
   "cell_type": "code",
   "execution_count": 26,
   "id": "dc731081",
   "metadata": {},
   "outputs": [],
   "source": [
    "df = pd.read_csv(\"new_data_before_miss_value.csv\")\n"
   ]
  },
  {
   "cell_type": "code",
   "execution_count": 27,
   "id": "1d1a6412",
   "metadata": {},
   "outputs": [
    {
     "data": {
      "text/plain": [
       "Tijdstempel                                                          302\n",
       "What programme are you in?                                            19\n",
       "Have you taken a course on machine learning?                           2\n",
       "Have you taken a course on information retrieval?                      2\n",
       "Have you taken a course on statistics?                                 2\n",
       "Have you taken a course on databases?                                  2\n",
       "What is your gender?                                                   6\n",
       "I have used ChatGPT to help me with some of my study assignments       3\n",
       "When is your birthday (date)?                                        204\n",
       "age                                                                   16\n",
       "How many students do you estimate there are in the room?              99\n",
       "Did you stand up to come to your previous answer    ?                  2\n",
       "What is your stress level (0-100)?                                    56\n",
       "How many hours per week do you do sports (in whole hours)?            17\n",
       "Give a random number                                                 137\n",
       "Time you went to bed Yesterday                                        54\n",
       "What makes a good day for you (1)?                                   209\n",
       "What makes a good day for you (2)?                                   246\n",
       "dtype: int64"
      ]
     },
     "execution_count": 27,
     "metadata": {},
     "output_type": "execute_result"
    }
   ],
   "source": [
    "df.nunique()"
   ]
  },
  {
   "cell_type": "code",
   "execution_count": 28,
   "id": "a602d6d4",
   "metadata": {},
   "outputs": [
    {
     "data": {
      "text/plain": [
       "Tijdstempel                                                           0\n",
       "What programme are you in?                                            5\n",
       "Have you taken a course on machine learning?                          3\n",
       "Have you taken a course on information retrieval?                    23\n",
       "Have you taken a course on statistics?                               16\n",
       "Have you taken a course on databases?                                 1\n",
       "What is your gender?                                                  0\n",
       "I have used ChatGPT to help me with some of my study assignments      0\n",
       "When is your birthday (date)?                                        83\n",
       "age                                                                  83\n",
       "How many students do you estimate there are in the room?              8\n",
       "Did you stand up to come to your previous answer    ?                12\n",
       "What is your stress level (0-100)?                                   21\n",
       "How many hours per week do you do sports (in whole hours)?            5\n",
       "Give a random number                                                  0\n",
       "Time you went to bed Yesterday                                       11\n",
       "What makes a good day for you (1)?                                    0\n",
       "What makes a good day for you (2)?                                    1\n",
       "dtype: int64"
      ]
     },
     "execution_count": 28,
     "metadata": {},
     "output_type": "execute_result"
    }
   ],
   "source": [
    "df.isnull().sum(axis = 0)"
   ]
  },
  {
   "cell_type": "code",
   "execution_count": 33,
   "id": "d7a51ed3",
   "metadata": {},
   "outputs": [],
   "source": [
    "# fill with prevous row values\n",
    "df = df.fillna(method='pad')"
   ]
  },
  {
   "cell_type": "code",
   "execution_count": 30,
   "id": "0f000838",
   "metadata": {},
   "outputs": [
    {
     "data": {
      "text/plain": [
       "Tijdstempel                                                          302\n",
       "What programme are you in?                                            19\n",
       "Have you taken a course on machine learning?                           2\n",
       "Have you taken a course on information retrieval?                      2\n",
       "Have you taken a course on statistics?                                 2\n",
       "Have you taken a course on databases?                                  2\n",
       "What is your gender?                                                   6\n",
       "I have used ChatGPT to help me with some of my study assignments       3\n",
       "When is your birthday (date)?                                        204\n",
       "age                                                                   16\n",
       "How many students do you estimate there are in the room?              99\n",
       "Did you stand up to come to your previous answer    ?                  2\n",
       "What is your stress level (0-100)?                                    56\n",
       "How many hours per week do you do sports (in whole hours)?            17\n",
       "Give a random number                                                 137\n",
       "Time you went to bed Yesterday                                        54\n",
       "What makes a good day for you (1)?                                   209\n",
       "What makes a good day for you (2)?                                   246\n",
       "dtype: int64"
      ]
     },
     "execution_count": 30,
     "metadata": {},
     "output_type": "execute_result"
    }
   ],
   "source": [
    "df.nunique()"
   ]
  },
  {
   "cell_type": "code",
   "execution_count": 31,
   "id": "9d123af8",
   "metadata": {},
   "outputs": [
    {
     "data": {
      "text/plain": [
       "Tijdstempel                                                          0\n",
       "What programme are you in?                                           0\n",
       "Have you taken a course on machine learning?                         0\n",
       "Have you taken a course on information retrieval?                    0\n",
       "Have you taken a course on statistics?                               0\n",
       "Have you taken a course on databases?                                0\n",
       "What is your gender?                                                 0\n",
       "I have used ChatGPT to help me with some of my study assignments     0\n",
       "When is your birthday (date)?                                        0\n",
       "age                                                                  0\n",
       "How many students do you estimate there are in the room?             0\n",
       "Did you stand up to come to your previous answer    ?                0\n",
       "What is your stress level (0-100)?                                   0\n",
       "How many hours per week do you do sports (in whole hours)?           0\n",
       "Give a random number                                                 0\n",
       "Time you went to bed Yesterday                                       0\n",
       "What makes a good day for you (1)?                                   0\n",
       "What makes a good day for you (2)?                                   0\n",
       "dtype: int64"
      ]
     },
     "execution_count": 31,
     "metadata": {},
     "output_type": "execute_result"
    }
   ],
   "source": [
    "df.isnull().sum(axis = 0)"
   ]
  },
  {
   "cell_type": "code",
   "execution_count": null,
   "id": "f7e01882",
   "metadata": {},
   "outputs": [],
   "source": []
  },
  {
   "cell_type": "code",
   "execution_count": 32,
   "id": "f8f27de1",
   "metadata": {
    "scrolled": true
   },
   "outputs": [],
   "source": [
    "# save the New_data\n",
    "df.to_csv('new_data_fill_missing_with_previous_row.csv', index=False)"
   ]
  }
 ],
 "metadata": {
  "kernelspec": {
   "display_name": "Python 3 (ipykernel)",
   "language": "python",
   "name": "python3"
  },
  "language_info": {
   "codemirror_mode": {
    "name": "ipython",
    "version": 3
   },
   "file_extension": ".py",
   "mimetype": "text/x-python",
   "name": "python",
   "nbconvert_exporter": "python",
   "pygments_lexer": "ipython3",
   "version": "3.9.13"
  }
 },
 "nbformat": 4,
 "nbformat_minor": 5
}
