{
 "cells": [
  {
   "cell_type": "code",
   "execution_count": 7,
   "id": "9713925d",
   "metadata": {},
   "outputs": [
    {
     "name": "stdout",
     "output_type": "stream",
     "text": [
      "     programme       age  students_in_room  stress_level  sports_per_week  \\\n",
      "0           AI  0.142857          0.079402           0.5         0.018868   \n",
      "1           AI  0.238095          0.331415           1.0         0.000000   \n",
      "2           AI  0.238095          0.654776           0.6         0.037736   \n",
      "3           AI  0.238095          0.217491           0.2         0.094340   \n",
      "4  Data Mining  0.285714          0.079402           0.5         0.094340   \n",
      "\n",
      "   bed_time  good_day_(1)_0  good_day_(1)_1  good_day_(1)_2  good_day_(1)_3  \\\n",
      "0  0.187630               1               0               0               0   \n",
      "1  0.979847               0               0               0               0   \n",
      "2  0.958999               0               0               0               0   \n",
      "3  0.979847               0               1               0               0   \n",
      "4  0.958999               0               1               0               0   \n",
      "\n",
      "   good_day_(1)_4  good_day_(1)_5  good_day_(1)_6  good_day_(2)_0  \\\n",
      "0               0               0               0               0   \n",
      "1               0               0               1               0   \n",
      "2               0               1               0               0   \n",
      "3               0               0               0               0   \n",
      "4               0               0               0               0   \n",
      "\n",
      "   good_day_(2)_1  good_day_(2)_2  good_day_(2)_3  good_day_(2)_4  \\\n",
      "0               0               0               1               0   \n",
      "1               0               0               0               0   \n",
      "2               0               1               0               0   \n",
      "3               0               0               1               0   \n",
      "4               1               0               0               0   \n",
      "\n",
      "   good_day_(2)_5  good_day_(2)_6  \n",
      "0               0               0  \n",
      "1               0               1  \n",
      "2               0               0  \n",
      "3               0               0  \n",
      "4               0               0  \n"
     ]
    }
   ],
   "source": [
    "import pandas as pd\n",
    "\n",
    "df = pd.read_csv(\"classification_dataset.csv\")\n",
    "df = df.drop([\"Unnamed: 0\"], axis=1)\n",
    "print(df.head())"
   ]
  },
  {
   "cell_type": "code",
   "execution_count": 36,
   "id": "73d6cad7",
   "metadata": {},
   "outputs": [
    {
     "name": "stdout",
     "output_type": "stream",
     "text": [
      "0.36065573770491804\n",
      "0.26229508196721313\n",
      "pvalue      0.26355247728296954\n",
      "statistic   1.25\n"
     ]
    }
   ],
   "source": [
    "from sklearn.model_selection import train_test_split\n",
    "from sklearn.neighbors import KNeighborsClassifier\n",
    "from sklearn.tree import DecisionTreeClassifier\n",
    "from sklearn.metrics import accuracy_score\n",
    "from statsmodels.stats.contingency_tables import mcnemar\n",
    "\n",
    "label = df[\"programme\"]\n",
    "features = df.loc[:, df.columns != \"programme\"]\n",
    "x_train, x_test, y_train, y_test = train_test_split(features, label, test_size=0.2)\n",
    "\n",
    "knn = KNeighborsClassifier(n_neighbors=3)\n",
    "knn.fit(x_train, y_train)\n",
    "y_pred_knn = knn.predict(x_test)\n",
    "\n",
    "\n",
    "tree = DecisionTreeClassifier()\n",
    "tree.fit(x_train, y_train)\n",
    "y_pred_tree = tree.predict(x_test)\n",
    "\n",
    "\n",
    "print(accuracy_score(y_test, y_pred_knn))\n",
    "print(accuracy_score(y_test, y_pred_tree))\n",
    "\n",
    "pred = pd.DataFrame({\"test\": y_test, \"knn\": y_pred_knn, \"tree\": y_pred_tree})\n",
    "\n",
    "# print(pred)\n",
    "a = len(pred.query(\"test == knn and test == tree\"))\n",
    "b = len(pred.query(\"test != knn and test == tree\"))\n",
    "c = len(pred.query(\"test == knn and test != tree\"))\n",
    "d = len(pred.query(\"test != knn and test != tree\"))\n",
    "\n",
    "table = [[a, b],\n",
    "         [c, d]]\n",
    "\n",
    "test = mcnemar(table, exact=False, correction=True)\n",
    "print(test)\n",
    "\n",
    "\n",
    "# from statsmodels.stats.contingency_tables import mcnemar\n",
    "\n",
    "# table = pd.crosstab(y_test, y_pred, margins=True)"
   ]
  },
  {
   "cell_type": "code",
   "execution_count": null,
   "id": "c403c218",
   "metadata": {},
   "outputs": [],
   "source": []
  }
 ],
 "metadata": {
  "kernelspec": {
   "display_name": "Python 3 (ipykernel)",
   "language": "python",
   "name": "python3"
  },
  "language_info": {
   "codemirror_mode": {
    "name": "ipython",
    "version": 3
   },
   "file_extension": ".py",
   "mimetype": "text/x-python",
   "name": "python",
   "nbconvert_exporter": "python",
   "pygments_lexer": "ipython3",
   "version": "3.10.4"
  }
 },
 "nbformat": 4,
 "nbformat_minor": 5
}
